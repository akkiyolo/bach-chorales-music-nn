{
 "cells": [
  {
   "cell_type": "code",
   "execution_count": 1,
   "id": "3771424b",
   "metadata": {},
   "outputs": [],
   "source": [
    "import pandas as pd"
   ]
  },
  {
   "cell_type": "code",
   "execution_count": 2,
   "id": "d4067e49",
   "metadata": {},
   "outputs": [],
   "source": [
    "df=pd.read_csv('chorales/train/chorale_000.csv')"
   ]
  },
  {
   "cell_type": "code",
   "execution_count": 3,
   "id": "09b0108b",
   "metadata": {},
   "outputs": [
    {
     "data": {
      "text/html": [
       "<div>\n",
       "<style scoped>\n",
       "    .dataframe tbody tr th:only-of-type {\n",
       "        vertical-align: middle;\n",
       "    }\n",
       "\n",
       "    .dataframe tbody tr th {\n",
       "        vertical-align: top;\n",
       "    }\n",
       "\n",
       "    .dataframe thead th {\n",
       "        text-align: right;\n",
       "    }\n",
       "</style>\n",
       "<table border=\"1\" class=\"dataframe\">\n",
       "  <thead>\n",
       "    <tr style=\"text-align: right;\">\n",
       "      <th></th>\n",
       "      <th>note0</th>\n",
       "      <th>note1</th>\n",
       "      <th>note2</th>\n",
       "      <th>note3</th>\n",
       "    </tr>\n",
       "  </thead>\n",
       "  <tbody>\n",
       "    <tr>\n",
       "      <th>0</th>\n",
       "      <td>74</td>\n",
       "      <td>70</td>\n",
       "      <td>65</td>\n",
       "      <td>58</td>\n",
       "    </tr>\n",
       "    <tr>\n",
       "      <th>1</th>\n",
       "      <td>74</td>\n",
       "      <td>70</td>\n",
       "      <td>65</td>\n",
       "      <td>58</td>\n",
       "    </tr>\n",
       "    <tr>\n",
       "      <th>2</th>\n",
       "      <td>74</td>\n",
       "      <td>70</td>\n",
       "      <td>65</td>\n",
       "      <td>58</td>\n",
       "    </tr>\n",
       "    <tr>\n",
       "      <th>3</th>\n",
       "      <td>74</td>\n",
       "      <td>70</td>\n",
       "      <td>65</td>\n",
       "      <td>58</td>\n",
       "    </tr>\n",
       "    <tr>\n",
       "      <th>4</th>\n",
       "      <td>75</td>\n",
       "      <td>70</td>\n",
       "      <td>58</td>\n",
       "      <td>55</td>\n",
       "    </tr>\n",
       "    <tr>\n",
       "      <th>...</th>\n",
       "      <td>...</td>\n",
       "      <td>...</td>\n",
       "      <td>...</td>\n",
       "      <td>...</td>\n",
       "    </tr>\n",
       "    <tr>\n",
       "      <th>187</th>\n",
       "      <td>70</td>\n",
       "      <td>65</td>\n",
       "      <td>62</td>\n",
       "      <td>46</td>\n",
       "    </tr>\n",
       "    <tr>\n",
       "      <th>188</th>\n",
       "      <td>70</td>\n",
       "      <td>65</td>\n",
       "      <td>62</td>\n",
       "      <td>46</td>\n",
       "    </tr>\n",
       "    <tr>\n",
       "      <th>189</th>\n",
       "      <td>70</td>\n",
       "      <td>65</td>\n",
       "      <td>62</td>\n",
       "      <td>46</td>\n",
       "    </tr>\n",
       "    <tr>\n",
       "      <th>190</th>\n",
       "      <td>70</td>\n",
       "      <td>65</td>\n",
       "      <td>62</td>\n",
       "      <td>46</td>\n",
       "    </tr>\n",
       "    <tr>\n",
       "      <th>191</th>\n",
       "      <td>70</td>\n",
       "      <td>65</td>\n",
       "      <td>62</td>\n",
       "      <td>46</td>\n",
       "    </tr>\n",
       "  </tbody>\n",
       "</table>\n",
       "<p>192 rows × 4 columns</p>\n",
       "</div>"
      ],
      "text/plain": [
       "     note0  note1  note2  note3\n",
       "0       74     70     65     58\n",
       "1       74     70     65     58\n",
       "2       74     70     65     58\n",
       "3       74     70     65     58\n",
       "4       75     70     58     55\n",
       "..     ...    ...    ...    ...\n",
       "187     70     65     62     46\n",
       "188     70     65     62     46\n",
       "189     70     65     62     46\n",
       "190     70     65     62     46\n",
       "191     70     65     62     46\n",
       "\n",
       "[192 rows x 4 columns]"
      ]
     },
     "execution_count": 3,
     "metadata": {},
     "output_type": "execute_result"
    }
   ],
   "source": [
    "df"
   ]
  },
  {
   "cell_type": "code",
   "execution_count": 4,
   "id": "98f4b0a0",
   "metadata": {},
   "outputs": [],
   "source": [
    "import os\n",
    "\n",
    "train_files=sorted([os.path.join('chorales','train',f) for f in os.listdir(os.path.join('chorales','train'))if f.endswith('.csv')])\n",
    "test_files=sorted([os.path.join('chorales','test',f) for f in os.listdir(os.path.join('chorales','test'))if f.endswith('.csv')])\n",
    "valid_files=sorted([os.path.join('chorales','valid',f) for f in os.listdir(os.path.join('chorales','valid'))if f.endswith('.csv')])"
   ]
  },
  {
   "cell_type": "code",
   "execution_count": 6,
   "id": "c143ec3f",
   "metadata": {},
   "outputs": [],
   "source": [
    "train_data=[pd.read_csv(f).values.tolist() for f in train_files]\n",
    "test_data=[pd.read_csv(f).values.tolist() for f in test_files]\n",
    "valid_data=[pd.read_csv(f).values.tolist() for f in valid_files]"
   ]
  }
 ],
 "metadata": {
  "kernelspec": {
   "display_name": "bach-chorals-music",
   "language": "python",
   "name": "python3"
  },
  "language_info": {
   "codemirror_mode": {
    "name": "ipython",
    "version": 3
   },
   "file_extension": ".py",
   "mimetype": "text/x-python",
   "name": "python",
   "nbconvert_exporter": "python",
   "pygments_lexer": "ipython3",
   "version": "3.12.4"
  }
 },
 "nbformat": 4,
 "nbformat_minor": 5
}
